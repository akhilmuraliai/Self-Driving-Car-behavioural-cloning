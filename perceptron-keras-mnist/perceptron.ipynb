{
 "cells": [
  {
   "cell_type": "markdown",
   "metadata": {},
   "source": [
    "### NOTEBOOK IMPORTS"
   ]
  },
  {
   "cell_type": "code",
   "execution_count": 1,
   "metadata": {},
   "outputs": [],
   "source": [
    "import numpy as np\n",
    "import matplotlib.pyplot as plt"
   ]
  },
  {
   "cell_type": "markdown",
   "metadata": {},
   "source": [
    "### FUNCTION TO DRAW LINE"
   ]
  },
  {
   "cell_type": "code",
   "execution_count": 2,
   "metadata": {},
   "outputs": [],
   "source": [
    "def draw(x1, x2):\n",
    "    ln = plt.plot(x1, x2, '-')"
   ]
  },
  {
   "cell_type": "markdown",
   "metadata": {},
   "source": [
    "### ACTIVATION FUNCTION"
   ]
  },
  {
   "cell_type": "code",
   "execution_count": 3,
   "metadata": {},
   "outputs": [],
   "source": [
    "def sigmoid(score):\n",
    "    return 1 / (1 + np.exp(-score))"
   ]
  },
  {
   "cell_type": "markdown",
   "metadata": {},
   "source": [
    "### CROSS ENTROPY ERROR CALCULATION"
   ]
  },
  {
   "cell_type": "code",
   "execution_count": 4,
   "metadata": {},
   "outputs": [],
   "source": [
    "# Same as logistic regression loss funtion\n",
    "\n",
    "def calculate_error(line_parameters, points, y):\n",
    "    \n",
    "    # number of data points\n",
    "    m = points.shape[0]\n",
    "    \n",
    "    # calculating probabilites\n",
    "    p = sigmoid(points * line_parameters)\n",
    "    \n",
    "    ce = -(1 / m) * (np.log(p).T * y + np.log(1 - p).T * (1 - y))\n",
    "    \n",
    "    return ce"
   ]
  },
  {
   "cell_type": "markdown",
   "metadata": {},
   "source": [
    "### GRADIENT DESCENT"
   ]
  },
  {
   "cell_type": "code",
   "execution_count": 5,
   "metadata": {},
   "outputs": [],
   "source": [
    "def gradient_descent(line_parameters, points, y, learning_rate):\n",
    "    \n",
    "    # number of data points\n",
    "    m = points.shape[0]\n",
    "        \n",
    "    for i in range(2000):\n",
    "\n",
    "        p = sigmoid(points * line_parameters)\n",
    "\n",
    "        gradient = points.T * (p - y) * (learning_rate / m)\n",
    "        \n",
    "        # parameters updation\n",
    "        line_parameters = line_parameters - gradient\n",
    "\n",
    "        # getting new parameters (weights and bias)\n",
    "        w1 = line_parameters.item(0)\n",
    "        w2 = line_parameters.item(1)\n",
    "        b = line_parameters.item(2)\n",
    "\n",
    "        # getting line coordinates to draw\n",
    "        x1 = np.array([points[:, 0].min(), points[:, 0].max()])\n",
    "        x2 = -b / w2 + x1 * (-w1 / w2)\n",
    "        \n",
    "    # drawing the line    \n",
    "    draw(x1, x2)"
   ]
  },
  {
   "cell_type": "markdown",
   "metadata": {},
   "source": [
    "### DATA MAKING"
   ]
  },
  {
   "cell_type": "code",
   "execution_count": 6,
   "metadata": {},
   "outputs": [],
   "source": [
    "np.random.seed(42)\n",
    "\n",
    "n_pts = 100\n",
    "\n",
    "bias = np.ones(n_pts)\n",
    "\n",
    "# Top Region of Data\n",
    "top_region = np.array([\n",
    "    np.random.normal(10, 2, n_pts),\n",
    "    np.random.normal(12, 2, n_pts),\n",
    "    bias\n",
    "]).T\n",
    "\n",
    "# Bottom Region of Data\n",
    "bottom_region = np.array([\n",
    "    np.random.normal(5, 2, n_pts),\n",
    "    np.random.normal(6, 2, n_pts),\n",
    "    bias\n",
    "]).T\n",
    "\n",
    "# Combining all points\n",
    "all_points = np.vstack((top_region, bottom_region))\n",
    "\n",
    "# Initial weights and biases of the perceptron\n",
    "line_parameters = np.matrix([np.zeros(3)]).T\n",
    "\n",
    "# Labels\n",
    "y = np.array([np.zeros(n_pts), np.ones(n_pts)]).reshape(2 * n_pts, 1)"
   ]
  },
  {
   "cell_type": "markdown",
   "metadata": {},
   "source": [
    "### PLOTTING RESULTS"
   ]
  },
  {
   "cell_type": "code",
   "execution_count": 7,
   "metadata": {},
   "outputs": [
    {
     "data": {
      "image/png": "[encoded data removed]",
      "text/plain": [
       "<Figure size 288x288 with 1 Axes>"
      ]
     },
     "metadata": {
      "needs_background": "light"
     },
     "output_type": "display_data"
    }
   ],
   "source": [
    "_, ax = plt.subplots(figsize=(4, 4))\n",
    "\n",
    "ax.scatter(top_region[:,0], top_region[:, 1], color='r')\n",
    "ax.scatter(bottom_region[:,0], bottom_region[:, 1], color='b')\n",
    "\n",
    "gradient_descent(line_parameters, all_points, y, 0.06)\n",
    "\n",
    "plt.show()"
   ]
  },
  {
   "cell_type": "markdown",
   "metadata": {},
   "source": [
    "### LIVE UPDATION"
   ]
  },
  {
   "cell_type": "markdown",
   "metadata": {},
   "source": [
    "<img src=\"perceptron.gif\">"
   ]
  },
  {
   "cell_type": "markdown",
   "metadata": {},
   "source": [
    "### FINAL ERROR (1000 Iterations)"
   ]
  },
  {
   "cell_type": "markdown",
   "metadata": {},
   "source": [
    "<img src=\"final-error.png\">"
   ]
  },
  {
   "cell_type": "code",
   "execution_count": null,
   "metadata": {},
   "outputs": [],
   "source": []
  },
  {
   "cell_type": "code",
   "execution_count": null,
   "metadata": {},
   "outputs": [],
   "source": []
  }
 ],
 "metadata": {
  "kernelspec": {
   "display_name": "Python [conda env:Python37-TF]",
   "language": "python",
   "name": "conda-env-Python37-TF-py"
  },
  "language_info": {
   "codemirror_mode": {
    "name": "ipython",
    "version": 3
   },
   "file_extension": ".py",
   "mimetype": "text/x-python",
   "name": "python",
   "nbconvert_exporter": "python",
   "pygments_lexer": "ipython3",
   "version": "3.7.9"
  }
 },
 "nbformat": 4,
 "nbformat_minor": 4
}
